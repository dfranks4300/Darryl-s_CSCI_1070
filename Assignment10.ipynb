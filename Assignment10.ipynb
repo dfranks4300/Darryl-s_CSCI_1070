{
 "cells": [
  {
   "cell_type": "code",
   "execution_count": 338,
   "id": "6f11f263-a12b-4ca3-bed4-2fc239964f97",
   "metadata": {},
   "outputs": [],
   "source": [
    "import pandas as pd \n",
    "import numpy as np\n",
    "import matplotlib.pyplot as plt\n",
    "from sklearn.model_selection import train_test_split\n",
    "from sklearn.preprocessing import MinMaxScaler\n",
    "from sklearn.preprocessing import StandardScaler\n",
    "from sklearn import tree\n",
    "from sklearn.metrics import classification_report, ConfusionMatrixDisplay\n",
    "from imblearn.over_sampling import RandomOverSampler\n",
    "from sklearn.ensemble import RandomForestClassifier"
   ]
  },
  {
   "cell_type": "code",
   "execution_count": 349,
   "id": "382fbecb-9032-4740-aefc-3e0ed96d9562",
   "metadata": {},
   "outputs": [
    {
     "data": {
      "text/html": [
       "<div>\n",
       "<style scoped>\n",
       "    .dataframe tbody tr th:only-of-type {\n",
       "        vertical-align: middle;\n",
       "    }\n",
       "\n",
       "    .dataframe tbody tr th {\n",
       "        vertical-align: top;\n",
       "    }\n",
       "\n",
       "    .dataframe thead th {\n",
       "        text-align: right;\n",
       "    }\n",
       "</style>\n",
       "<table border=\"1\" class=\"dataframe\">\n",
       "  <thead>\n",
       "    <tr style=\"text-align: right;\">\n",
       "      <th></th>\n",
       "      <th>age</th>\n",
       "      <th>sex</th>\n",
       "      <th>cp</th>\n",
       "      <th>trestbps</th>\n",
       "      <th>chol</th>\n",
       "      <th>fbs</th>\n",
       "      <th>restecg</th>\n",
       "      <th>thalach</th>\n",
       "      <th>exang</th>\n",
       "      <th>oldpeak</th>\n",
       "      <th>slope</th>\n",
       "      <th>ca</th>\n",
       "      <th>thal</th>\n",
       "      <th>Outcome</th>\n",
       "    </tr>\n",
       "  </thead>\n",
       "  <tbody>\n",
       "    <tr>\n",
       "      <th>0</th>\n",
       "      <td>63</td>\n",
       "      <td>1</td>\n",
       "      <td>1</td>\n",
       "      <td>145</td>\n",
       "      <td>233</td>\n",
       "      <td>1</td>\n",
       "      <td>2</td>\n",
       "      <td>150</td>\n",
       "      <td>0</td>\n",
       "      <td>2.3</td>\n",
       "      <td>3</td>\n",
       "      <td>0.0</td>\n",
       "      <td>6.0</td>\n",
       "      <td>0</td>\n",
       "    </tr>\n",
       "    <tr>\n",
       "      <th>1</th>\n",
       "      <td>67</td>\n",
       "      <td>1</td>\n",
       "      <td>4</td>\n",
       "      <td>160</td>\n",
       "      <td>286</td>\n",
       "      <td>0</td>\n",
       "      <td>2</td>\n",
       "      <td>108</td>\n",
       "      <td>1</td>\n",
       "      <td>1.5</td>\n",
       "      <td>2</td>\n",
       "      <td>3.0</td>\n",
       "      <td>3.0</td>\n",
       "      <td>2</td>\n",
       "    </tr>\n",
       "    <tr>\n",
       "      <th>2</th>\n",
       "      <td>67</td>\n",
       "      <td>1</td>\n",
       "      <td>4</td>\n",
       "      <td>120</td>\n",
       "      <td>229</td>\n",
       "      <td>0</td>\n",
       "      <td>2</td>\n",
       "      <td>129</td>\n",
       "      <td>1</td>\n",
       "      <td>2.6</td>\n",
       "      <td>2</td>\n",
       "      <td>2.0</td>\n",
       "      <td>7.0</td>\n",
       "      <td>1</td>\n",
       "    </tr>\n",
       "    <tr>\n",
       "      <th>3</th>\n",
       "      <td>37</td>\n",
       "      <td>1</td>\n",
       "      <td>3</td>\n",
       "      <td>130</td>\n",
       "      <td>250</td>\n",
       "      <td>0</td>\n",
       "      <td>0</td>\n",
       "      <td>187</td>\n",
       "      <td>0</td>\n",
       "      <td>3.5</td>\n",
       "      <td>3</td>\n",
       "      <td>0.0</td>\n",
       "      <td>3.0</td>\n",
       "      <td>0</td>\n",
       "    </tr>\n",
       "    <tr>\n",
       "      <th>4</th>\n",
       "      <td>41</td>\n",
       "      <td>0</td>\n",
       "      <td>2</td>\n",
       "      <td>130</td>\n",
       "      <td>204</td>\n",
       "      <td>0</td>\n",
       "      <td>2</td>\n",
       "      <td>172</td>\n",
       "      <td>0</td>\n",
       "      <td>1.4</td>\n",
       "      <td>1</td>\n",
       "      <td>0.0</td>\n",
       "      <td>3.0</td>\n",
       "      <td>0</td>\n",
       "    </tr>\n",
       "  </tbody>\n",
       "</table>\n",
       "</div>"
      ],
      "text/plain": [
       "   age  sex  cp  trestbps  chol  fbs  restecg  thalach  exang  oldpeak  slope  \\\n",
       "0   63    1   1       145   233    1        2      150      0      2.3      3   \n",
       "1   67    1   4       160   286    0        2      108      1      1.5      2   \n",
       "2   67    1   4       120   229    0        2      129      1      2.6      2   \n",
       "3   37    1   3       130   250    0        0      187      0      3.5      3   \n",
       "4   41    0   2       130   204    0        2      172      0      1.4      1   \n",
       "\n",
       "    ca  thal  Outcome  \n",
       "0  0.0   6.0        0  \n",
       "1  3.0   3.0        2  \n",
       "2  2.0   7.0        1  \n",
       "3  0.0   3.0        0  \n",
       "4  0.0   3.0        0  "
      ]
     },
     "execution_count": 349,
     "metadata": {},
     "output_type": "execute_result"
    }
   ],
   "source": [
    "from ucimlrepo import fetch_ucirepo \n",
    "  \n",
    "# fetch dataset \n",
    "heart_disease = fetch_ucirepo(id=45) \n",
    "  \n",
    "# data (as pandas dataframes) \n",
    "X = heart_disease.data.features \n",
    "y = heart_disease.data.targets \n",
    "  \n",
    "hd_df = pd.DataFrame(data = X) \n",
    "hd_df['Outcome'] = y\n",
    "hd_df.head()\n"
   ]
  },
  {
   "cell_type": "markdown",
   "id": "c705e871-146e-436f-beaa-b843ed017c09",
   "metadata": {},
   "source": [
    "# Question 1"
   ]
  },
  {
   "cell_type": "markdown",
   "id": "6446e42f-00b6-46be-88c5-828fc8410a68",
   "metadata": {},
   "source": [
    "Inductive reasoning is when you make general ideas based on specific things you've noticed. It's like going from details to broader conclusions. Even though it doesn't always prove things for sure, it usually gives a good amount of support.\n",
    "eg:Observation: Every crow you have ever seen is black.\n",
    "   Inductive Conclusion: You might induce that all crows are black.\n",
    "   Generalization: Based on your observations, you generalize that the color black is characteristic of all crows.\n",
    "Deductive reasoning is the opposite. You start with general ideas, and then you draw specific conclusions from them. In deductive reasoning, if the main ideas are true, the conclusions have to be true too. \n",
    "eg:Premise 1: If it is raining, then the ground will be wet.\n",
    "   Premise 2: It is raining.\n",
    "   Deductive Conclusion: Therefore, the ground will be wet."
   ]
  },
  {
   "cell_type": "markdown",
   "id": "dae39b44-7d67-4a2f-8189-b81e1636ed5a",
   "metadata": {},
   "source": [
    "# Question 2"
   ]
  },
  {
   "cell_type": "code",
   "execution_count": 350,
   "id": "bd0e67fa-718b-4d9e-8c1a-5d977aa2c292",
   "metadata": {},
   "outputs": [],
   "source": [
    "hd_df= hd_df[hd_df['Outcome'] <= 1]\n",
    "\n"
   ]
  },
  {
   "cell_type": "code",
   "execution_count": 351,
   "id": "951de78a-7990-4e0d-b9c6-7b6e2881db53",
   "metadata": {},
   "outputs": [],
   "source": [
    "hd_df = hd_df.dropna()"
   ]
  },
  {
   "cell_type": "code",
   "execution_count": 364,
   "id": "6ad675cf-a610-44a2-bff9-8a6ac016be0f",
   "metadata": {},
   "outputs": [
    {
     "data": {
      "text/plain": [
       "Outcome\n",
       "0    160\n",
       "1     54\n",
       "Name: count, dtype: int64"
      ]
     },
     "execution_count": 364,
     "metadata": {},
     "output_type": "execute_result"
    }
   ],
   "source": [
    "hd_df['Outcome'].value_counts()"
   ]
  },
  {
   "cell_type": "markdown",
   "id": "a5ff6933-f592-4a8b-b56b-2e612ba9b077",
   "metadata": {},
   "source": [
    "# Question 3"
   ]
  },
  {
   "cell_type": "code",
   "execution_count": 740,
   "id": "bb8abdea-6fb4-4e46-91ba-e1d129eb612f",
   "metadata": {},
   "outputs": [],
   "source": [
    "X = hd_df.drop('Outcome', axis =1)\n",
    "y = hd_df['Outcome']\n",
    "\n",
    "X_train, X_test, y_train, y_test = train_test_split(X, y, test_size = 0.2, random_state = 32) \n",
    "\n",
    "sc = StandardScaler()\n",
    "X_train = sc.fit_transform(X_train)\n",
    "X_test = sc.fit_transform(X_test)"
   ]
  },
  {
   "cell_type": "code",
   "execution_count": 741,
   "id": "49c33e28-baa4-4668-948f-570b073aacff",
   "metadata": {},
   "outputs": [],
   "source": [
    "ros = RandomOverSampler(random_state= 32)\n",
    "X_resampled, y_resampled = ros.fit_resample(X_train, y_train)"
   ]
  },
  {
   "cell_type": "code",
   "execution_count": 742,
   "id": "fd369340-8cfa-45c0-afe3-490daf904c37",
   "metadata": {},
   "outputs": [
    {
     "data": {
      "text/plain": [
       "0.7906976744186046"
      ]
     },
     "execution_count": 742,
     "metadata": {},
     "output_type": "execute_result"
    }
   ],
   "source": [
    "model = tree.DecisionTreeClassifier(max_depth = 4, random_state=32, splitter = 'random')\n",
    "model = model.fit(X_resampled, y_resampled)\n",
    "y_pred = model.predict(X_test)\n",
    "model.score(X_test, y_test)"
   ]
  },
  {
   "cell_type": "code",
   "execution_count": 743,
   "id": "53a2ad97-0b72-47b3-9ffa-a739583bd083",
   "metadata": {},
   "outputs": [
    {
     "name": "stdout",
     "output_type": "stream",
     "text": [
      "              precision    recall  f1-score   support\n",
      "\n",
      "           0       0.94      0.81      0.87        36\n",
      "           1       0.42      0.71      0.53         7\n",
      "\n",
      "    accuracy                           0.79        43\n",
      "   macro avg       0.68      0.76      0.70        43\n",
      "weighted avg       0.85      0.79      0.81        43\n",
      "\n"
     ]
    }
   ],
   "source": [
    "print(classification_report(y_test, y_pred))"
   ]
  },
  {
   "cell_type": "markdown",
   "id": "2ce67466-6d1c-4b2e-bb0a-6a0a947c5734",
   "metadata": {},
   "source": [
    "tree.plot_tree(model, feature_names = list(X.columns),\n",
    "               filled =True,fontsize = 6, rounded =True)\n",
    "plt.show()\n",
    "plt.savefig(\"tree.svg\")"
   ]
  },
  {
   "cell_type": "markdown",
   "id": "36ce915f-2402-4cf5-874f-ad098ff552eb",
   "metadata": {},
   "source": [
    "I tuned it by standardization, OverSampling and changing the parameters of the model."
   ]
  },
  {
   "cell_type": "markdown",
   "id": "37b59b1a-a6c9-4b02-b7f9-c8d90133cd04",
   "metadata": {},
   "source": [
    "# Question 4"
   ]
  },
  {
   "cell_type": "code",
   "execution_count": 792,
   "id": "63c7aead-3431-450a-b623-652ce04717d4",
   "metadata": {},
   "outputs": [
    {
     "data": {
      "text/plain": [
       "0.813953488372093"
      ]
     },
     "execution_count": 792,
     "metadata": {},
     "output_type": "execute_result"
    }
   ],
   "source": [
    "rf = RandomForestClassifier(n_estimators = 260, max_depth = 4, random_state =32)\n",
    "rf = rf.fit(X_resampled, y_resampled)\n",
    "y_pred = rf.predict(X_test)\n",
    "rf.score(X_test, y_test)"
   ]
  },
  {
   "cell_type": "code",
   "execution_count": 793,
   "id": "fef6d7d7-6096-4a6e-9bae-a253f06de9b6",
   "metadata": {},
   "outputs": [
    {
     "name": "stdout",
     "output_type": "stream",
     "text": [
      "              precision    recall  f1-score   support\n",
      "\n",
      "           0       0.89      0.89      0.89        36\n",
      "           1       0.43      0.43      0.43         7\n",
      "\n",
      "    accuracy                           0.81        43\n",
      "   macro avg       0.66      0.66      0.66        43\n",
      "weighted avg       0.81      0.81      0.81        43\n",
      "\n"
     ]
    }
   ],
   "source": [
    "print(classification_report(y_test, y_pred))"
   ]
  },
  {
   "cell_type": "code",
   "execution_count": 701,
   "id": "01b5f7d0-b513-4f63-84c5-1c77e22ea642",
   "metadata": {},
   "outputs": [
    {
     "name": "stdout",
     "output_type": "stream",
     "text": [
      "[0.1297779  0.05909421 0.09032637 0.128209   0.11479896 0.01154557\n",
      " 0.02035561 0.12862883 0.0358702  0.09556268 0.03383974 0.08606058\n",
      " 0.06593035] Index(['age', 'sex', 'cp', 'trestbps', 'chol', 'fbs', 'restecg', 'thalach',\n",
      "       'exang', 'oldpeak', 'slope', 'ca', 'thal'],\n",
      "      dtype='object')\n"
     ]
    }
   ],
   "source": [
    "print(rf.feature_importances_,X.columns)"
   ]
  },
  {
   "cell_type": "code",
   "execution_count": 702,
   "id": "ba02ca95-f4a8-44f2-8fab-2740a1dc9637",
   "metadata": {},
   "outputs": [
    {
     "data": {
      "image/png": "[encoded data removed]",
      "text/plain": [
       "<Figure size 640x480 with 1 Axes>"
      ]
     },
     "metadata": {},
     "output_type": "display_data"
    }
   ],
   "source": [
    "tree_10 = rf.estimators_[9]\n",
    "tree.plot_tree(tree_10)\n",
    "plt.savefig(\"rf_tree.svg\")"
   ]
  },
  {
   "cell_type": "markdown",
   "id": "c69b2524-e425-474b-9089-3c71ab8202cc",
   "metadata": {},
   "source": [
    "I tuned it by chnaging the parameteres to find the best one"
   ]
  },
  {
   "cell_type": "markdown",
   "id": "a6e1b491-145f-4838-aadf-49e37e4f445a",
   "metadata": {},
   "source": [
    "# Question 5"
   ]
  },
  {
   "cell_type": "code",
   "execution_count": 781,
   "id": "5fe35837-6fd5-4730-b439-8557f5934faa",
   "metadata": {},
   "outputs": [
    {
     "name": "stdout",
     "output_type": "stream",
     "text": [
      "              precision    recall  f1-score   support\n",
      "\n",
      "           0       0.86      0.33      0.48        36\n",
      "           1       0.17      0.71      0.28         7\n",
      "\n",
      "    accuracy                           0.40        43\n",
      "   macro avg       0.51      0.52      0.38        43\n",
      "weighted avg       0.75      0.40      0.45        43\n",
      "\n"
     ]
    }
   ],
   "source": [
    "from xgboost import XGBClassifier\n",
    "xgb = XGBClassifier(max_depth = 5, random_state =32, objective = 'binary:logistic', eta = 4 )\n",
    "xgb.fit(X_resampled, y_resampled)\n",
    "\n",
    "y_pred = xgb.predict(X_test)\n",
    "print(classification_report(y_test, y_pred))"
   ]
  },
  {
   "cell_type": "markdown",
   "id": "7466f7d8-f91e-4482-b849-7af22228ac1c",
   "metadata": {},
   "source": [
    "I tuned it by chnaging the parameteres to find the best one"
   ]
  },
  {
   "cell_type": "code",
   "execution_count": null,
   "id": "f6496d29-df39-46b6-8bb7-7cee693d4eff",
   "metadata": {},
   "outputs": [],
   "source": []
  }
 ],
 "metadata": {
  "kernelspec": {
   "display_name": "Python 3 (ipykernel)",
   "language": "python",
   "name": "python3"
  },
  "language_info": {
   "codemirror_mode": {
    "name": "ipython",
    "version": 3
   },
   "file_extension": ".py",
   "mimetype": "text/x-python",
   "name": "python",
   "nbconvert_exporter": "python",
   "pygments_lexer": "ipython3",
   "version": "3.11.5"
  }
 },
 "nbformat": 4,
 "nbformat_minor": 5
}
