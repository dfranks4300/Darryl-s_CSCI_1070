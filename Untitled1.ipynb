{
 "cells": [
  {
   "cell_type": "code",
   "execution_count": null,
   "id": "8c57e387-4777-4d92-9db0-cc6f82d33f2b",
   "metadata": {},
   "outputs": [],
   "source": [
    "x = diabetes_df.drop('Outcome\n",
    "y = diabetes\n",
    "\n",
    "# Standarize/Normalize- transforming vaules so that the mean is 0 and SD is 1\n",
    "sc\n",
    "X_train=sc.fit_transform(X_train\n"
   ]
  },
  {
   "cell_type": "code",
   "execution_count": null,
   "id": "4dc31fd4-9296-4e85-82c9-b580e1b010f1",
   "metadata": {},
   "outputs": [],
   "source": [
    "diabetes_pred_df = pd.DataFrame(X_test, colums = diabetes_df.colums(0;8])\n",
    "diabetes_pred"
   ]
  },
  {
   "cell_type": "code",
   "execution_count": null,
   "id": "92875840-659d-42fc-b17f-b3efbdcb18cc",
   "metadata": {},
   "outputs": [],
   "source": [
    "from sklearn.metrics import confusion_matrix, \n",
    "\n",
    "confusion_matrix(y_test, y_predict)\n",
    "\n",
    "                 "
   ]
  },
  {
   "cell_type": "code",
   "execution_count": null,
   "id": "58c1f098-0bf4-408e-82b5-fe5fee5f107c",
   "metadata": {},
   "outputs": [],
   "source": [
    "improt numpy "
   ]
  },
  {
   "cell_type": "code",
   "execution_count": null,
   "id": "01331b9e-9388-4d09-ad1d-8ac6cb1f4cf9",
   "metadata": {},
   "outputs": [],
   "source": [
    "x = crime_df[['X2', x5']\n",
    "y = crime_df['X1']\n",
    " X_train,"
   ]
  },
  {
   "cell_type": "raw",
   "id": "6a739650-aaa0-44b5-8b7f-49d257bec22e",
   "metadata": {},
   "source": [
    "from sklearn.linear_model import LinearRegression\n",
    "regression"
   ]
  },
  {
   "cell_type": "code",
   "execution_count": null,
   "id": "8d0fd339-5fd0-48b7-a9e0-2d5ce1754a05",
   "metadata": {},
   "outputs": [],
   "source": [
    "accuracy_score = regression.score(X_test, y_test)\n",
    "accuracy_score\n"
   ]
  },
  {
   "cell_type": "raw",
   "id": "009439a6-42a4-43e8-93d9-8983478dc634",
   "metadata": {},
   "source": [
    "regression.coef_\n"
   ]
  },
  {
   "cell_type": "code",
   "execution_count": null,
   "id": "b6d3a069-ca46-47f8-8c7a-57d0cd85c0c3",
   "metadata": {},
   "outputs": [],
   "source": [
    "# What is the equation for this model?\n",
    "# x1= 0.53 star2 + 5.18star5"
   ]
  },
  {
   "cell_type": "code",
   "execution_count": null,
   "id": "8b8fb7e5-b0b5-458a-b416-3c208563d173",
   "metadata": {},
   "outputs": [],
   "source": [
    "OLS (ordinary least squares) regression is a type of linear regression that lets\n",
    "you handle interactions as wella s features that dont have interactions. With OLS \n",
    "regression you can incorprate features that are correlated with each other"
   ]
  },
  {
   "cell_type": "code",
   "execution_count": null,
   "id": "0c0bb83f-5f78-479e-acaf-2ef34748c2ca",
   "metadata": {},
   "outputs": [],
   "source": [
    "# pip3 install sttasmodel"
   ]
  },
  {
   "cell_type": "code",
   "execution_count": null,
   "id": "9c9aa6b2-c3df-4da8-9861-5bf6f87b7d8e",
   "metadata": {},
   "outputs": [],
   "source": [
    "diabetes_vs_glucose = ols('Outcome Gluclose, data=diavtes_df).fit()\n",
    "                          print(diabtes_vs_glcusouse.params\n",
    "                                intercept, slope = diabetes_vs_glucose.parmas\n",
    "                                # outcome = -0.492 + .0069 star gluclose\n",
    "                                \n",
    "                                "
   ]
  },
  {
   "cell_type": "code",
   "execution_count": null,
   "id": "97e14149-4b2c-4341-b4dc-1c108761a9e0",
   "metadata": {},
   "outputs": [],
   "source": [
    "sns.scatterplot(x="
   ]
  },
  {
   "cell_type": "code",
   "execution_count": null,
   "id": "49adabe1-f63a-4ca0-87aa-291f0ba9cb03",
   "metadata": {},
   "outputs": [],
   "source": [
    "age_gl_no_int = ols('0utcome age + Glucose', data= diabetes_df).fit()\n",
    "print(age_gl_int.params)\n",
    "# Outcome =-.91 + 0.01 starAge + .0089Gluclose - .00072 Star Age star gluclose."
   ]
  }
 ],
 "metadata": {
  "kernelspec": {
   "display_name": "Python 3 (ipykernel)",
   "language": "python",
   "name": "python3"
  },
  "language_info": {
   "codemirror_mode": {
    "name": "ipython",
    "version": 3
   },
   "file_extension": ".py",
   "mimetype": "text/x-python",
   "name": "python",
   "nbconvert_exporter": "python",
   "pygments_lexer": "ipython3",
   "version": "3.9.0"
  }
 },
 "nbformat": 4,
 "nbformat_minor": 5
}
