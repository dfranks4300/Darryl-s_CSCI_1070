{
 "cells": [
  {
   "cell_type": "code",
   "execution_count": null,
   "id": "d548bba5-7035-43a7-95a8-48fefcaa3290",
   "metadata": {},
   "outputs": [],
   "source": [
    "R is the correlation between two variables\n",
    "r2 is the square of correlation"
   ]
  },
  {
   "cell_type": "code",
   "execution_count": null,
   "id": "5bb5a8ea-79a1-431b-8052-49310e627c2f",
   "metadata": {},
   "outputs": [],
   "source": [
    "import numpy as np\n",
    "import pandas as pd\n",
    "import mathlotlib.pyplot as plt\n",
    "import seaborn as sns\n",
    "\n",
    "from sklearn.model_selection import train_test_split\n",
    "\n",
    "crime_df\n"
   ]
  },
  {
   "cell_type": "code",
   "execution_count": null,
   "id": "0b83971a-58e2-4b0c-b824-576ce8699832",
   "metadata": {},
   "outputs": [],
   "source": [
    "sns.heatmap(crime_df.corr(),amo\n",
    "            "
   ]
  },
  {
   "cell_type": "code",
   "execution_count": null,
   "id": "edad8f52-0802-4522-b410-dd14089e0f7c",
   "metadata": {},
   "outputs": [],
   "source": [
    "from sklearn,linear model import LinearRegression\n",
    "\n",
    "crime_df=crime_df[['X5','X1']]\n",
    "x = np.array(crime_df['X1'].reshape(-1,1)\n",
    "# y is what we are predicting \n",
    "y = np.array(crime_df['X1'].reshape(-1,1)\n",
    "\n",
    "#1. train-test split\n",
    "             X_train, X_test, y_train, y test= train_test_split(X,y,"
   ]
  },
  {
   "cell_type": "code",
   "execution_count": null,
   "id": "ac73bf5d-eaf9-4702-8c0c-18153c368df1",
   "metadata": {},
   "outputs": [],
   "source": [
    "#2. create the model\n",
    "regression_model = LinearRegression\n",
    "regression_"
   ]
  },
  {
   "cell_type": "code",
   "execution_count": null,
   "id": "c6c963fc-dd7d-4aab-92ab-2214ccd542e0",
   "metadata": {},
   "outputs": [],
   "source": [
    "    from sklearn.metrics import r2_score\n",
    "    r2_score(y_test, y_pred)\n"
   ]
  },
  {
   "cell_type": "code",
   "execution_count": null,
   "id": "b610752d-9c53-4200-b164-f97112d8da20",
   "metadata": {},
   "outputs": [],
   "source": [
    "plit.scatter("
   ]
  }
 ],
 "metadata": {
  "kernelspec": {
   "display_name": "Python 3 (ipykernel)",
   "language": "python",
   "name": "python3"
  },
  "language_info": {
   "codemirror_mode": {
    "name": "ipython",
    "version": 3
   },
   "file_extension": ".py",
   "mimetype": "text/x-python",
   "name": "python",
   "nbconvert_exporter": "python",
   "pygments_lexer": "ipython3",
   "version": "3.9.0"
  }
 },
 "nbformat": 4,
 "nbformat_minor": 5
}
