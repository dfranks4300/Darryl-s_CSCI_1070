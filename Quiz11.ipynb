{
 "cells": [
  {
   "cell_type": "code",
   "execution_count": 31,
   "id": "8e4a3add-812b-4eed-9391-f0ba8f6a9637",
   "metadata": {},
   "outputs": [
    {
     "name": "stdout",
     "output_type": "stream",
     "text": [
      "['a', 'b']\n"
     ]
    }
   ],
   "source": [
    "def filter(list):\n",
    "    new_list = []\n",
    "    for i in list:\n",
    "        if type(i) != int and type(i) != float:\n",
    "            new_list.append(i)\n",
    "    return new_list\n",
    "list = [1,2,'a','b',7.6]\n",
    "print(filter(list))\n",
    "            "
   ]
  },
  {
   "cell_type": "code",
   "execution_count": 45,
   "id": "4ff4d4cc-9dc6-4c60-b08f-03820f4be77e",
   "metadata": {},
   "outputs": [
    {
     "name": "stdout",
     "output_type": "stream",
     "text": [
      "[1, 2, 'fuzz', 4, 'Buzz', 'fuzz', 7, 8, 'fuzz', 'Buzz', 11, 'fuzz', 13, 14, 'Fuzz_buzz', 16, 17, 'fuzz', 19, 'Buzz', 'fuzz', 22, 23, 'fuzz', 'Buzz', 26, 'fuzz', 28, 29, 'Fuzz_buzz', 31, 32, 'fuzz', 34, 'Buzz', 'fuzz', 37, 38, 'fuzz', 'Buzz']\n"
     ]
    }
   ],
   "source": [
    "def divisible(x:int = 15)->list:\n",
    "    result_list= []\n",
    "    for num in range(1,x+1):\n",
    "        if num %5== 0 and num%3==0:\n",
    "            result_list.append('Fuzz_buzz')\n",
    "        elif num % 3 == 0:\n",
    "            result_list.append('fuzz')\n",
    "        elif num% 5 ==0:\n",
    "            result_list.append('Buzz')\n",
    "        else:\n",
    "            result_list.append(num)\n",
    "    return result_list\n",
    "\n",
    "print(divisible(40))"
   ]
  },
  {
   "cell_type": "code",
   "execution_count": null,
   "id": "7a9fd9b9-78ec-4858-8f87-f00d636e62d7",
   "metadata": {},
   "outputs": [],
   "source": []
  }
 ],
 "metadata": {
  "kernelspec": {
   "display_name": "Python 3 (ipykernel)",
   "language": "python",
   "name": "python3"
  },
  "language_info": {
   "codemirror_mode": {
    "name": "ipython",
    "version": 3
   },
   "file_extension": ".py",
   "mimetype": "text/x-python",
   "name": "python",
   "nbconvert_exporter": "python",
   "pygments_lexer": "ipython3",
   "version": "3.11.5"
  }
 },
 "nbformat": 4,
 "nbformat_minor": 5
}
