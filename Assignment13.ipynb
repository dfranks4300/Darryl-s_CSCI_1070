{
 "cells": [
  {
   "cell_type": "code",
   "execution_count": 6,
   "id": "87c28f12-e26e-4854-a07e-bfec7a9d800d",
   "metadata": {},
   "outputs": [
    {
     "data": {
      "text/html": [
       "<div>\n",
       "<style scoped>\n",
       "    .dataframe tbody tr th:only-of-type {\n",
       "        vertical-align: middle;\n",
       "    }\n",
       "\n",
       "    .dataframe tbody tr th {\n",
       "        vertical-align: top;\n",
       "    }\n",
       "\n",
       "    .dataframe thead th {\n",
       "        text-align: right;\n",
       "    }\n",
       "</style>\n",
       "<table border=\"1\" class=\"dataframe\">\n",
       "  <thead>\n",
       "    <tr style=\"text-align: right;\">\n",
       "      <th></th>\n",
       "      <th>age</th>\n",
       "      <th>sex</th>\n",
       "      <th>cp</th>\n",
       "      <th>trestbps</th>\n",
       "      <th>chol</th>\n",
       "      <th>fbs</th>\n",
       "      <th>restecg</th>\n",
       "      <th>thalach</th>\n",
       "      <th>exang</th>\n",
       "      <th>oldpeak</th>\n",
       "      <th>slope</th>\n",
       "      <th>ca</th>\n",
       "      <th>thal</th>\n",
       "      <th>Outcome</th>\n",
       "    </tr>\n",
       "  </thead>\n",
       "  <tbody>\n",
       "    <tr>\n",
       "      <th>0</th>\n",
       "      <td>63</td>\n",
       "      <td>1</td>\n",
       "      <td>1</td>\n",
       "      <td>145</td>\n",
       "      <td>233</td>\n",
       "      <td>1</td>\n",
       "      <td>2</td>\n",
       "      <td>150</td>\n",
       "      <td>0</td>\n",
       "      <td>2.3</td>\n",
       "      <td>3</td>\n",
       "      <td>0.0</td>\n",
       "      <td>6.0</td>\n",
       "      <td>0</td>\n",
       "    </tr>\n",
       "    <tr>\n",
       "      <th>1</th>\n",
       "      <td>67</td>\n",
       "      <td>1</td>\n",
       "      <td>4</td>\n",
       "      <td>160</td>\n",
       "      <td>286</td>\n",
       "      <td>0</td>\n",
       "      <td>2</td>\n",
       "      <td>108</td>\n",
       "      <td>1</td>\n",
       "      <td>1.5</td>\n",
       "      <td>2</td>\n",
       "      <td>3.0</td>\n",
       "      <td>3.0</td>\n",
       "      <td>2</td>\n",
       "    </tr>\n",
       "    <tr>\n",
       "      <th>2</th>\n",
       "      <td>67</td>\n",
       "      <td>1</td>\n",
       "      <td>4</td>\n",
       "      <td>120</td>\n",
       "      <td>229</td>\n",
       "      <td>0</td>\n",
       "      <td>2</td>\n",
       "      <td>129</td>\n",
       "      <td>1</td>\n",
       "      <td>2.6</td>\n",
       "      <td>2</td>\n",
       "      <td>2.0</td>\n",
       "      <td>7.0</td>\n",
       "      <td>1</td>\n",
       "    </tr>\n",
       "    <tr>\n",
       "      <th>3</th>\n",
       "      <td>37</td>\n",
       "      <td>1</td>\n",
       "      <td>3</td>\n",
       "      <td>130</td>\n",
       "      <td>250</td>\n",
       "      <td>0</td>\n",
       "      <td>0</td>\n",
       "      <td>187</td>\n",
       "      <td>0</td>\n",
       "      <td>3.5</td>\n",
       "      <td>3</td>\n",
       "      <td>0.0</td>\n",
       "      <td>3.0</td>\n",
       "      <td>0</td>\n",
       "    </tr>\n",
       "    <tr>\n",
       "      <th>4</th>\n",
       "      <td>41</td>\n",
       "      <td>0</td>\n",
       "      <td>2</td>\n",
       "      <td>130</td>\n",
       "      <td>204</td>\n",
       "      <td>0</td>\n",
       "      <td>2</td>\n",
       "      <td>172</td>\n",
       "      <td>0</td>\n",
       "      <td>1.4</td>\n",
       "      <td>1</td>\n",
       "      <td>0.0</td>\n",
       "      <td>3.0</td>\n",
       "      <td>0</td>\n",
       "    </tr>\n",
       "  </tbody>\n",
       "</table>\n",
       "</div>"
      ],
      "text/plain": [
       "   age  sex  cp  trestbps  chol  fbs  restecg  thalach  exang  oldpeak  slope  \\\n",
       "0   63    1   1       145   233    1        2      150      0      2.3      3   \n",
       "1   67    1   4       160   286    0        2      108      1      1.5      2   \n",
       "2   67    1   4       120   229    0        2      129      1      2.6      2   \n",
       "3   37    1   3       130   250    0        0      187      0      3.5      3   \n",
       "4   41    0   2       130   204    0        2      172      0      1.4      1   \n",
       "\n",
       "    ca  thal  Outcome  \n",
       "0  0.0   6.0        0  \n",
       "1  3.0   3.0        2  \n",
       "2  2.0   7.0        1  \n",
       "3  0.0   3.0        0  \n",
       "4  0.0   3.0        0  "
      ]
     },
     "execution_count": 6,
     "metadata": {},
     "output_type": "execute_result"
    }
   ],
   "source": [
    "import pandas as pd \n",
    "import numpy as np\n",
    "import matplotlib.pyplot as plt\n",
    "from sklearn.model_selection import train_test_split\n",
    "from sklearn.preprocessing import MinMaxScaler\n",
    "from sklearn.preprocessing import StandardScaler\n",
    "from sklearn.metrics import classification_report\n",
    "import torch\n",
    "import torch.nn as nn\n",
    "import torch.nn.functional as F\n",
    "from ucimlrepo import fetch_ucirepo \n",
    "  \n",
    "# fetch dataset \n",
    "heart_disease = fetch_ucirepo(id=45) \n",
    "\n",
    "\n",
    "X = heart_disease.data.features \n",
    "y = heart_disease.data.targets \n",
    "  \n",
    "hd_df = pd.DataFrame(data = X) \n",
    "hd_df['Outcome'] = y\n",
    "hd_df.head()\n"
   ]
  },
  {
   "cell_type": "markdown",
   "id": "d7da3300-1197-45b4-9b62-6b5f6f96ef9d",
   "metadata": {},
   "source": [
    "# Question 1"
   ]
  },
  {
   "cell_type": "markdown",
   "id": "84c57054-79e1-4430-a094-711b1decaed0",
   "metadata": {},
   "source": [
    "A Neural Network is an AI model that is inspired and modeled after the way the human brain operates. It's used for solving complex problems in various areas like pattern recognition, classification, regression, and more.\n",
    "the general steps to building a nueral network are:\n",
    "Data Collection and Preprocessing,Define Network Architecture,\n",
    "Initialize the Model,Forward Propagation,Compute Loss,Backpropagation,\n",
    "Iterate Training,Validation and Tuning, Testing,Deployment and Monitoring\n",
    "\n"
   ]
  },
  {
   "cell_type": "markdown",
   "id": "b985ff50-1597-40b3-aaa1-d10128918200",
   "metadata": {},
   "source": [
    "# Question 2"
   ]
  },
  {
   "cell_type": "markdown",
   "id": "d013b60b-6752-432d-9fd4-e11f29ff179e",
   "metadata": {},
   "source": [
    "Generally we check the performance of a nueral network using metrics like accuracy, loss, f1 score. these metrics provide insights into how well the model is learning and generalizing from the data. "
   ]
  },
  {
   "cell_type": "markdown",
   "id": "bbd1ecc3-5238-4094-ae4d-2fc523079526",
   "metadata": {},
   "source": [
    "# Question 3"
   ]
  },
  {
   "cell_type": "code",
   "execution_count": 52,
   "id": "80c44ae6-9cff-4f16-a1d1-3a4886cefe24",
   "metadata": {},
   "outputs": [],
   "source": [
    "hd_df= hd_df[hd_df['Outcome'] <= 1]\n"
   ]
  },
  {
   "cell_type": "code",
   "execution_count": 53,
   "id": "ebcb9c54-8745-4e96-8e12-00cea9926893",
   "metadata": {},
   "outputs": [],
   "source": [
    "hd_df = hd_df.dropna()"
   ]
  },
  {
   "cell_type": "code",
   "execution_count": 54,
   "id": "b6e3298a-2d8f-4af4-a2ad-36f695e71852",
   "metadata": {},
   "outputs": [
    {
     "data": {
      "text/html": [
       "<div>\n",
       "<style scoped>\n",
       "    .dataframe tbody tr th:only-of-type {\n",
       "        vertical-align: middle;\n",
       "    }\n",
       "\n",
       "    .dataframe tbody tr th {\n",
       "        vertical-align: top;\n",
       "    }\n",
       "\n",
       "    .dataframe thead th {\n",
       "        text-align: right;\n",
       "    }\n",
       "</style>\n",
       "<table border=\"1\" class=\"dataframe\">\n",
       "  <thead>\n",
       "    <tr style=\"text-align: right;\">\n",
       "      <th></th>\n",
       "      <th>age</th>\n",
       "      <th>sex</th>\n",
       "      <th>cp</th>\n",
       "      <th>trestbps</th>\n",
       "      <th>chol</th>\n",
       "      <th>fbs</th>\n",
       "      <th>restecg</th>\n",
       "      <th>thalach</th>\n",
       "      <th>exang</th>\n",
       "      <th>oldpeak</th>\n",
       "      <th>slope</th>\n",
       "      <th>ca</th>\n",
       "      <th>thal</th>\n",
       "      <th>Outcome</th>\n",
       "    </tr>\n",
       "  </thead>\n",
       "  <tbody>\n",
       "    <tr>\n",
       "      <th>0</th>\n",
       "      <td>63</td>\n",
       "      <td>1</td>\n",
       "      <td>1</td>\n",
       "      <td>145</td>\n",
       "      <td>233</td>\n",
       "      <td>1</td>\n",
       "      <td>2</td>\n",
       "      <td>150</td>\n",
       "      <td>0</td>\n",
       "      <td>2.3</td>\n",
       "      <td>3</td>\n",
       "      <td>0.0</td>\n",
       "      <td>6.0</td>\n",
       "      <td>0</td>\n",
       "    </tr>\n",
       "    <tr>\n",
       "      <th>2</th>\n",
       "      <td>67</td>\n",
       "      <td>1</td>\n",
       "      <td>4</td>\n",
       "      <td>120</td>\n",
       "      <td>229</td>\n",
       "      <td>0</td>\n",
       "      <td>2</td>\n",
       "      <td>129</td>\n",
       "      <td>1</td>\n",
       "      <td>2.6</td>\n",
       "      <td>2</td>\n",
       "      <td>2.0</td>\n",
       "      <td>7.0</td>\n",
       "      <td>1</td>\n",
       "    </tr>\n",
       "    <tr>\n",
       "      <th>3</th>\n",
       "      <td>37</td>\n",
       "      <td>1</td>\n",
       "      <td>3</td>\n",
       "      <td>130</td>\n",
       "      <td>250</td>\n",
       "      <td>0</td>\n",
       "      <td>0</td>\n",
       "      <td>187</td>\n",
       "      <td>0</td>\n",
       "      <td>3.5</td>\n",
       "      <td>3</td>\n",
       "      <td>0.0</td>\n",
       "      <td>3.0</td>\n",
       "      <td>0</td>\n",
       "    </tr>\n",
       "    <tr>\n",
       "      <th>4</th>\n",
       "      <td>41</td>\n",
       "      <td>0</td>\n",
       "      <td>2</td>\n",
       "      <td>130</td>\n",
       "      <td>204</td>\n",
       "      <td>0</td>\n",
       "      <td>2</td>\n",
       "      <td>172</td>\n",
       "      <td>0</td>\n",
       "      <td>1.4</td>\n",
       "      <td>1</td>\n",
       "      <td>0.0</td>\n",
       "      <td>3.0</td>\n",
       "      <td>0</td>\n",
       "    </tr>\n",
       "    <tr>\n",
       "      <th>5</th>\n",
       "      <td>56</td>\n",
       "      <td>1</td>\n",
       "      <td>2</td>\n",
       "      <td>120</td>\n",
       "      <td>236</td>\n",
       "      <td>0</td>\n",
       "      <td>0</td>\n",
       "      <td>178</td>\n",
       "      <td>0</td>\n",
       "      <td>0.8</td>\n",
       "      <td>1</td>\n",
       "      <td>0.0</td>\n",
       "      <td>3.0</td>\n",
       "      <td>0</td>\n",
       "    </tr>\n",
       "  </tbody>\n",
       "</table>\n",
       "</div>"
      ],
      "text/plain": [
       "   age  sex  cp  trestbps  chol  fbs  restecg  thalach  exang  oldpeak  slope  \\\n",
       "0   63    1   1       145   233    1        2      150      0      2.3      3   \n",
       "2   67    1   4       120   229    0        2      129      1      2.6      2   \n",
       "3   37    1   3       130   250    0        0      187      0      3.5      3   \n",
       "4   41    0   2       130   204    0        2      172      0      1.4      1   \n",
       "5   56    1   2       120   236    0        0      178      0      0.8      1   \n",
       "\n",
       "    ca  thal  Outcome  \n",
       "0  0.0   6.0        0  \n",
       "2  2.0   7.0        1  \n",
       "3  0.0   3.0        0  \n",
       "4  0.0   3.0        0  \n",
       "5  0.0   3.0        0  "
      ]
     },
     "execution_count": 54,
     "metadata": {},
     "output_type": "execute_result"
    }
   ],
   "source": [
    "hd_df.head()"
   ]
  },
  {
   "cell_type": "markdown",
   "id": "8c74d8a6-82d0-4f5c-9545-576c86adac70",
   "metadata": {},
   "source": [
    "this data didnt really need more cleaning. "
   ]
  },
  {
   "cell_type": "markdown",
   "id": "b3fe0120-cfa4-4651-a85b-8bd7c7645699",
   "metadata": {},
   "source": [
    "# Question 4"
   ]
  },
  {
   "cell_type": "code",
   "execution_count": 83,
   "id": "45c98f52-3b41-4bb2-abac-5ef2818a376c",
   "metadata": {},
   "outputs": [],
   "source": [
    "X = hd_df.drop('Outcome', axis=1).values\n",
    "y = hd_df['Outcome'].values\n",
    "\n",
    "X_train, X_test, y_train, y_test = train_test_split(X, y, test_size=0.3,\n",
    "                                                    random_state=32,\n",
    "                                                    stratify=y)\n"
   ]
  },
  {
   "cell_type": "code",
   "execution_count": 103,
   "id": "d8936e4a-be86-4a75-8cf5-ac06a69c811d",
   "metadata": {},
   "outputs": [
    {
     "name": "stdout",
     "output_type": "stream",
     "text": [
      "tensor([[59.,  0.,  4.,  ...,  2.,  0.,  3.],\n",
      "        [50.,  0.,  3.,  ...,  2.,  0.,  3.],\n",
      "        [52.,  0.,  3.,  ...,  2.,  0.,  3.],\n",
      "        ...,\n",
      "        [42.,  1.,  4.,  ...,  1.,  0.,  3.],\n",
      "        [67.,  0.,  3.,  ...,  2.,  0.,  7.],\n",
      "        [57.,  1.,  2.,  ...,  1.,  1.,  3.]])\n"
     ]
    }
   ],
   "source": [
    "X_train = torch.FloatTensor(X_train)\n",
    "X_test = torch.FloatTensor(X_test)\n",
    "\n",
    "y_test = torch.LongTensor(y_test)\n",
    "y_train = torch.LongTensor(y_train)\n",
    "\n",
    "print(X_train)"
   ]
  },
  {
   "cell_type": "code",
   "execution_count": 203,
   "id": "a6e86027-1f3b-4c20-87d5-9e721a4dad5f",
   "metadata": {},
   "outputs": [],
   "source": [
    "#artificial neural network\n",
    "class ANN_Model(nn.Module):\n",
    "    def __init__(self, input_features=13,hidden1=20,hidden2=20,hidden3=20, out_features=2):\n",
    "        super().__init__() \n",
    "        self.layer_1_connection = nn.Linear(input_features, hidden1)\n",
    "        self.layer_2_connection = nn.Linear(hidden1, hidden2)\n",
    "        self.layer_3_connection = nn.Linear(hidden2, hidden3)\n",
    "        self.out = nn.Linear(hidden3, out_features)\n",
    "\n",
    "    def forward(self, x):\n",
    "        x = F.relu(self.layer_1_connection(x))\n",
    "        x = F.relu(self.layer_2_connection(x))\n",
    "        x = F.relu(self.layer_3_connection(x))\n",
    "        x = self.out(x)\n",
    "        return x"
   ]
  },
  {
   "cell_type": "code",
   "execution_count": 204,
   "id": "aed74ad8-2b29-4a29-be3a-2867d818128e",
   "metadata": {},
   "outputs": [],
   "source": [
    "torch.manual_seed(42)\n",
    "Ann = ANN_Model()"
   ]
  },
  {
   "cell_type": "code",
   "execution_count": 205,
   "id": "95181371-1f64-4949-ae22-9321e6017ce9",
   "metadata": {},
   "outputs": [],
   "source": [
    "loss_function = nn.CrossEntropyLoss()\n",
    "optimizer = torch.optim.RAdam(Ann.parameters(), lr=0.01)"
   ]
  },
  {
   "cell_type": "code",
   "execution_count": 206,
   "id": "d8e02081-4349-413f-b5bc-8dea51a68c9b",
   "metadata": {},
   "outputs": [
    {
     "name": "stdout",
     "output_type": "stream",
     "text": [
      "Epoch number: 1 with loss: 0.6672568321228027\n",
      "Epoch number: 21 with loss: 0.5448777079582214\n",
      "Epoch number: 41 with loss: 0.5242448449134827\n",
      "Epoch number: 61 with loss: 0.506575345993042\n",
      "Epoch number: 81 with loss: 0.4858362674713135\n",
      "Epoch number: 101 with loss: 0.46851834654808044\n",
      "Epoch number: 121 with loss: 0.45053961873054504\n",
      "Epoch number: 141 with loss: 0.4245365858078003\n",
      "Epoch number: 161 with loss: 0.3899588882923126\n",
      "Epoch number: 181 with loss: 0.3628610074520111\n",
      "Epoch number: 201 with loss: 0.35431939363479614\n",
      "Epoch number: 221 with loss: 0.34160828590393066\n",
      "Epoch number: 241 with loss: 0.33725205063819885\n",
      "Epoch number: 261 with loss: 0.33825889229774475\n",
      "Epoch number: 281 with loss: 0.32957035303115845\n",
      "Epoch number: 301 with loss: 0.33343443274497986\n",
      "Epoch number: 321 with loss: 0.3269016742706299\n",
      "Epoch number: 341 with loss: 0.3250870704650879\n",
      "Epoch number: 361 with loss: 0.3225403428077698\n",
      "Epoch number: 381 with loss: 0.32187095284461975\n",
      "Epoch number: 401 with loss: 0.3202621042728424\n",
      "Epoch number: 421 with loss: 0.3251512348651886\n",
      "Epoch number: 441 with loss: 0.31837838888168335\n",
      "Epoch number: 461 with loss: 0.3150799572467804\n",
      "Epoch number: 481 with loss: 0.3302673101425171\n"
     ]
    }
   ],
   "source": [
    "final_loss = []\n",
    "n_epochs = 500\n",
    "for epoch in range(n_epochs):\n",
    "    y_pred = Ann.forward(X_train)\n",
    "    loss = loss_function(y_pred, y_train)\n",
    "    final_loss.append(loss)\n",
    "\n",
    "    if epoch % 20 ==1:\n",
    "        print(f'Epoch number: {epoch} with loss: {loss}')\n",
    "\n",
    "    optimizer.zero_grad() \n",
    "    loss.backward() \n",
    "    optimizer.step() "
   ]
  },
  {
   "cell_type": "code",
   "execution_count": 207,
   "id": "9c75beab-2c69-494e-8b11-162d06a8da62",
   "metadata": {},
   "outputs": [],
   "source": [
    "y_pred = []\n",
    "\n",
    "with torch.no_grad(): \n",
    "    for i, data in enumerate(X_test):\n",
    "        prediction = Ann(data)\n",
    "        y_pred.append(prediction.argmax()) "
   ]
  },
  {
   "cell_type": "code",
   "execution_count": 208,
   "id": "f54612d2-2bbc-44ce-8a14-41a3a7e21a6a",
   "metadata": {},
   "outputs": [
    {
     "name": "stdout",
     "output_type": "stream",
     "text": [
      "              precision    recall  f1-score   support\n",
      "\n",
      "           0       0.79      0.84      0.81        49\n",
      "           1       0.38      0.31      0.34        16\n",
      "\n",
      "    accuracy                           0.71        65\n",
      "   macro avg       0.59      0.57      0.58        65\n",
      "weighted avg       0.69      0.71      0.70        65\n",
      "\n"
     ]
    }
   ],
   "source": [
    "from sklearn.metrics import classification_report\n",
    "\n",
    "print(classification_report(y_test, y_pred))"
   ]
  },
  {
   "cell_type": "markdown",
   "id": "4cc1650f-fb20-41a4-8fa8-d19d21599216",
   "metadata": {},
   "source": [
    "# Question 5"
   ]
  },
  {
   "cell_type": "markdown",
   "id": "82351e91-e031-40fa-bee9-ab8829bc78b3",
   "metadata": {},
   "source": [
    "the neural network performed the best with the RAdam optimizer. However it still performed worse than other models like \n",
    "Decision Trees and XGB boost. "
   ]
  },
  {
   "cell_type": "code",
   "execution_count": null,
   "id": "0be8f0c0-cd18-4bdd-bec1-88b518f6daf8",
   "metadata": {},
   "outputs": [],
   "source": []
  }
 ],
 "metadata": {
  "kernelspec": {
   "display_name": "Python 3 (ipykernel)",
   "language": "python",
   "name": "python3"
  },
  "language_info": {
   "codemirror_mode": {
    "name": "ipython",
    "version": 3
   },
   "file_extension": ".py",
   "mimetype": "text/x-python",
   "name": "python",
   "nbconvert_exporter": "python",
   "pygments_lexer": "ipython3",
   "version": "3.11.5"
  }
 },
 "nbformat": 4,
 "nbformat_minor": 5
}
