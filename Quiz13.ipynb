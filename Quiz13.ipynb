{
 "cells": [
  {
   "cell_type": "code",
   "execution_count": 49,
   "id": "042514ba-fccd-499a-817c-d1db188e9d4e",
   "metadata": {},
   "outputs": [
    {
     "data": {
      "text/html": [
       "<div>\n",
       "<style scoped>\n",
       "    .dataframe tbody tr th:only-of-type {\n",
       "        vertical-align: middle;\n",
       "    }\n",
       "\n",
       "    .dataframe tbody tr th {\n",
       "        vertical-align: top;\n",
       "    }\n",
       "\n",
       "    .dataframe thead th {\n",
       "        text-align: right;\n",
       "    }\n",
       "</style>\n",
       "<table border=\"1\" class=\"dataframe\">\n",
       "  <thead>\n",
       "    <tr style=\"text-align: right;\">\n",
       "      <th></th>\n",
       "      <th>Pregnancies</th>\n",
       "      <th>Glucose</th>\n",
       "      <th>BloodPressure</th>\n",
       "      <th>SkinThickness</th>\n",
       "      <th>Insulin</th>\n",
       "      <th>BMI</th>\n",
       "      <th>DiabetesPedigreeFunction</th>\n",
       "      <th>Age</th>\n",
       "      <th>Outcome</th>\n",
       "    </tr>\n",
       "  </thead>\n",
       "  <tbody>\n",
       "    <tr>\n",
       "      <th>0</th>\n",
       "      <td>6</td>\n",
       "      <td>148</td>\n",
       "      <td>72</td>\n",
       "      <td>35</td>\n",
       "      <td>0</td>\n",
       "      <td>33.6</td>\n",
       "      <td>0.627</td>\n",
       "      <td>50</td>\n",
       "      <td>1</td>\n",
       "    </tr>\n",
       "    <tr>\n",
       "      <th>1</th>\n",
       "      <td>1</td>\n",
       "      <td>85</td>\n",
       "      <td>66</td>\n",
       "      <td>29</td>\n",
       "      <td>0</td>\n",
       "      <td>26.6</td>\n",
       "      <td>0.351</td>\n",
       "      <td>31</td>\n",
       "      <td>0</td>\n",
       "    </tr>\n",
       "    <tr>\n",
       "      <th>2</th>\n",
       "      <td>8</td>\n",
       "      <td>183</td>\n",
       "      <td>64</td>\n",
       "      <td>0</td>\n",
       "      <td>0</td>\n",
       "      <td>23.3</td>\n",
       "      <td>0.672</td>\n",
       "      <td>32</td>\n",
       "      <td>1</td>\n",
       "    </tr>\n",
       "    <tr>\n",
       "      <th>3</th>\n",
       "      <td>1</td>\n",
       "      <td>89</td>\n",
       "      <td>66</td>\n",
       "      <td>23</td>\n",
       "      <td>94</td>\n",
       "      <td>28.1</td>\n",
       "      <td>0.167</td>\n",
       "      <td>21</td>\n",
       "      <td>0</td>\n",
       "    </tr>\n",
       "    <tr>\n",
       "      <th>4</th>\n",
       "      <td>0</td>\n",
       "      <td>137</td>\n",
       "      <td>40</td>\n",
       "      <td>35</td>\n",
       "      <td>168</td>\n",
       "      <td>43.1</td>\n",
       "      <td>2.288</td>\n",
       "      <td>33</td>\n",
       "      <td>1</td>\n",
       "    </tr>\n",
       "  </tbody>\n",
       "</table>\n",
       "</div>"
      ],
      "text/plain": [
       "   Pregnancies  Glucose  BloodPressure  SkinThickness  Insulin   BMI  \\\n",
       "0            6      148             72             35        0  33.6   \n",
       "1            1       85             66             29        0  26.6   \n",
       "2            8      183             64              0        0  23.3   \n",
       "3            1       89             66             23       94  28.1   \n",
       "4            0      137             40             35      168  43.1   \n",
       "\n",
       "   DiabetesPedigreeFunction  Age  Outcome  \n",
       "0                     0.627   50        1  \n",
       "1                     0.351   31        0  \n",
       "2                     0.672   32        1  \n",
       "3                     0.167   21        0  \n",
       "4                     2.288   33        1  "
      ]
     },
     "execution_count": 49,
     "metadata": {},
     "output_type": "execute_result"
    }
   ],
   "source": [
    "import pandas as pd\n",
    "import torch \n",
    "\n",
    "dia_df =pd.read_csv(\"diabetes.csv\")\n",
    "dia_df.head()"
   ]
  },
  {
   "cell_type": "code",
   "execution_count": 50,
   "id": "610a5de9-8b0c-4d37-8647-21a69e5068c8",
   "metadata": {},
   "outputs": [],
   "source": [
    "from sklearn.model_selection import train_test_split\n",
    "from sklearn.preprocessing import StandardScaler\n",
    "\n",
    "X = dia_df.drop('Outcome', axis=1).values\n",
    "y = dia_df['Outcome'].values\n",
    "\n",
    "X_train, X_test, y_train, y_test = train_test_split(X,y,\n",
    "                                                   test_size = 0.3,\n",
    "                                                   random_state= 32)\n"
   ]
  },
  {
   "cell_type": "code",
   "execution_count": 51,
   "id": "6ac3ab91-4e29-4f29-82de-9657c485983c",
   "metadata": {},
   "outputs": [
    {
     "name": "stdout",
     "output_type": "stream",
     "text": [
      "tensor([[  6.0000, 134.0000,  70.0000,  ...,  35.4000,   0.5420,  29.0000],\n",
      "        [  1.0000, 139.0000,  46.0000,  ...,  28.7000,   0.6540,  22.0000],\n",
      "        [  0.0000, 139.0000,  62.0000,  ...,  22.1000,   0.2070,  21.0000],\n",
      "        ...,\n",
      "        [  6.0000,  80.0000,  66.0000,  ...,  26.2000,   0.3130,  41.0000],\n",
      "        [  7.0000, 124.0000,  70.0000,  ...,  25.5000,   0.1610,  37.0000],\n",
      "        [  0.0000, 141.0000,  84.0000,  ...,  32.4000,   0.4330,  22.0000]])\n"
     ]
    }
   ],
   "source": [
    "import torch.nn as nn\n",
    "import torch.nn.functional as F #activation fcuntions\n",
    "\n",
    "#create tensors = matrices\n",
    "X_train = torch.FloatTensor(X_train)\n",
    "X_test = torch.FloatTensor(X_test)\n",
    "\n",
    "y_test = torch.LongTensor(y_test)\n",
    "y_train = torch.LongTensor(y_train)\n",
    "\n",
    "print(X_train)"
   ]
  },
  {
   "cell_type": "code",
   "execution_count": 52,
   "id": "3376f14f-5117-4dd9-8c1b-9e8966211b56",
   "metadata": {},
   "outputs": [],
   "source": [
    "class ANN_Model(nn.Module):\n",
    "    def __init__(self, input_features=8, hidden1=20, hidden2=20, out_features =2):\n",
    "        super().__init__()\n",
    "        self.layer_1_connection = nn.Linear(input_features, hidden1)\n",
    "        self.layer_2_connection = nn.Linear(hidden1, hidden2)\n",
    "        self.out = nn.Linear(hidden2, out_features)\n",
    "    def forward(self, x):\n",
    "        x = F.relu(self.layer_1_connection(x))\n",
    "        x = F.relu(self.layer_2_connection(x))\n",
    "        x = self.out(x)\n",
    "        return(x)"
   ]
  },
  {
   "cell_type": "code",
   "execution_count": 62,
   "id": "b23d8d06-3fa6-4b24-95b6-fe7ef44f1e6e",
   "metadata": {},
   "outputs": [],
   "source": [
    "torch.manual_seed(42)\n",
    "\n",
    "ann = ANN_Model()"
   ]
  },
  {
   "cell_type": "code",
   "execution_count": 63,
   "id": "6e864150-7ac4-4708-b409-4aa53fc6763a",
   "metadata": {},
   "outputs": [],
   "source": [
    "loss_function = nn.CrossEntropyLoss()\n",
    "\n",
    "optimizer = torch.optim.Adagrad(ann.parameters(), lr = 0.01)\n"
   ]
  },
  {
   "cell_type": "code",
   "execution_count": 64,
   "id": "f10b2d43-991e-45ed-861f-3ca3fbec0b76",
   "metadata": {},
   "outputs": [
    {
     "name": "stdout",
     "output_type": "stream",
     "text": [
      "Epoch number : 1 with loss: 0.7312906980514526\n",
      "Epoch number : 11 with loss: 0.642289936542511\n",
      "Epoch number : 21 with loss: 0.6072684526443481\n",
      "Epoch number : 31 with loss: 0.5836370587348938\n",
      "Epoch number : 41 with loss: 0.5714246034622192\n",
      "Epoch number : 51 with loss: 0.5634576678276062\n",
      "Epoch number : 61 with loss: 0.5547658801078796\n",
      "Epoch number : 71 with loss: 0.5502145886421204\n",
      "Epoch number : 81 with loss: 0.5470359325408936\n",
      "Epoch number : 91 with loss: 0.5434497594833374\n",
      "Epoch number : 101 with loss: 0.5402237176895142\n",
      "Epoch number : 111 with loss: 0.537408173084259\n",
      "Epoch number : 121 with loss: 0.533257007598877\n",
      "Epoch number : 131 with loss: 0.5298886299133301\n",
      "Epoch number : 141 with loss: 0.5267162919044495\n",
      "Epoch number : 151 with loss: 0.5244864225387573\n",
      "Epoch number : 161 with loss: 0.5236403346061707\n",
      "Epoch number : 171 with loss: 0.5222222805023193\n",
      "Epoch number : 181 with loss: 0.5191341638565063\n",
      "Epoch number : 191 with loss: 0.5167221426963806\n",
      "Epoch number : 201 with loss: 0.5150210857391357\n",
      "Epoch number : 211 with loss: 0.513214647769928\n",
      "Epoch number : 221 with loss: 0.5110846161842346\n",
      "Epoch number : 231 with loss: 0.5099647641181946\n",
      "Epoch number : 241 with loss: 0.5076513290405273\n",
      "Epoch number : 251 with loss: 0.5066186785697937\n",
      "Epoch number : 261 with loss: 0.5062514543533325\n",
      "Epoch number : 271 with loss: 0.504210889339447\n",
      "Epoch number : 281 with loss: 0.5018953680992126\n",
      "Epoch number : 291 with loss: 0.5004332661628723\n",
      "Epoch number : 301 with loss: 0.5002261996269226\n",
      "Epoch number : 311 with loss: 0.49975091218948364\n",
      "Epoch number : 321 with loss: 0.4972591698169708\n",
      "Epoch number : 331 with loss: 0.4955810308456421\n",
      "Epoch number : 341 with loss: 0.4945462644100189\n",
      "Epoch number : 351 with loss: 0.49396610260009766\n",
      "Epoch number : 361 with loss: 0.4946851134300232\n",
      "Epoch number : 371 with loss: 0.49173638224601746\n",
      "Epoch number : 381 with loss: 0.4900732636451721\n",
      "Epoch number : 391 with loss: 0.4907442033290863\n",
      "Epoch number : 401 with loss: 0.48860153555870056\n",
      "Epoch number : 411 with loss: 0.4883614480495453\n",
      "Epoch number : 421 with loss: 0.48790067434310913\n",
      "Epoch number : 431 with loss: 0.48444268107414246\n",
      "Epoch number : 441 with loss: 0.48525312542915344\n",
      "Epoch number : 451 with loss: 0.4838385283946991\n",
      "Epoch number : 461 with loss: 0.4840976595878601\n",
      "Epoch number : 471 with loss: 0.4817119538784027\n",
      "Epoch number : 481 with loss: 0.48067453503608704\n",
      "Epoch number : 491 with loss: 0.480218768119812\n"
     ]
    }
   ],
   "source": [
    "final_loss = []\n",
    "n_epochs = 500\n",
    "for epoch in range(n_epochs):\n",
    "    y_pred = ann.forward(X_train)\n",
    "    loss = loss_function(y_pred, y_train)\n",
    "    final_loss.append(loss)\n",
    "    \n",
    "    if epoch % 10 ==1:\n",
    "        print(f'Epoch number : {epoch} with loss: {loss}')\n",
    "    \n",
    "    optimizer.zero_grad()\n",
    "    loss.backward()\n",
    "    optimizer.step()"
   ]
  },
  {
   "cell_type": "code",
   "execution_count": 67,
   "id": "1c69764c-549e-4785-9af8-5f61c36631b8",
   "metadata": {},
   "outputs": [],
   "source": [
    "y_pred = []\n",
    "with torch.no_grad():\n",
    "    for i, data in enumerate(X_test):\n",
    "        prediction = ann(data)\n",
    "        y_pred.append(prediction.argmax())"
   ]
  },
  {
   "cell_type": "code",
   "execution_count": 68,
   "id": "d89b6445-3cb7-4f60-81e2-e6111f38a218",
   "metadata": {},
   "outputs": [
    {
     "name": "stdout",
     "output_type": "stream",
     "text": [
      "              precision    recall  f1-score   support\n",
      "\n",
      "           0       0.73      0.84      0.78       147\n",
      "           1       0.62      0.46      0.53        84\n",
      "\n",
      "    accuracy                           0.70       231\n",
      "   macro avg       0.68      0.65      0.66       231\n",
      "weighted avg       0.69      0.70      0.69       231\n",
      "\n"
     ]
    }
   ],
   "source": [
    "from sklearn.metrics import classification_report\n",
    "print(classification_report(y_test, y_pred))"
   ]
  },
  {
   "cell_type": "markdown",
   "id": "303de5e0-35c0-4f6e-97ae-5747cc469652",
   "metadata": {},
   "source": [
    "#Adam optimizer works by combining algorithms. I triend the Adagrad algorithm performed better than the relu model"
   ]
  },
  {
   "cell_type": "code",
   "execution_count": 80,
   "id": "01bb4db3-1deb-4914-aa37-fb1c7b0bd5ab",
   "metadata": {},
   "outputs": [
    {
     "name": "stdout",
     "output_type": "stream",
     "text": [
      "There are 5 divisors: [16, 16, 16, 16, 16]\n"
     ]
    }
   ],
   "source": [
    "def diviser_count(num):\n",
    "    divisers = []\n",
    "    for d in range(1,num+1):\n",
    "        if num%d ==0:\n",
    "            divisers.append(num)\n",
    "    no_of_divisers = len(divisers)\n",
    "    return divisers, no_of_divisers\n",
    "\n",
    "divisers, no_of_divisers = diviser_count(16)\n",
    "print(f\"There are {no_of_divisers} divisors of {n: {divisers}\")\n"
   ]
  },
  {
   "cell_type": "code",
   "execution_count": null,
   "id": "457749b7-8279-408a-b9b1-6d396cebb9fb",
   "metadata": {},
   "outputs": [],
   "source": []
  }
 ],
 "metadata": {
  "kernelspec": {
   "display_name": "Python 3 (ipykernel)",
   "language": "python",
   "name": "python3"
  },
  "language_info": {
   "codemirror_mode": {
    "name": "ipython",
    "version": 3
   },
   "file_extension": ".py",
   "mimetype": "text/x-python",
   "name": "python",
   "nbconvert_exporter": "python",
   "pygments_lexer": "ipython3",
   "version": "3.11.5"
  }
 },
 "nbformat": 4,
 "nbformat_minor": 5
}
